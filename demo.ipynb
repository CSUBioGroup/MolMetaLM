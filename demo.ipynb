{
 "cells": [
  {
   "cell_type": "markdown",
   "id": "ce87e54e-f065-4a13-bb49-4df27363f526",
   "metadata": {},
   "source": [
    "# 1. Train your own MolMetaLM (optional)"
   ]
  },
  {
   "cell_type": "markdown",
   "id": "bc2ea0be-6d41-4217-aa8a-08f6e5348d9d",
   "metadata": {},
   "source": [
    "## 1.1 prepare your dataset for pretraining."
   ]
  },
  {
   "cell_type": "markdown",
   "id": "79e06f2c-ad57-4aa9-8168-1c99bf4872bb",
   "metadata": {},
   "source": [
    "## 1.2 pretrain MolMetaLM"
   ]
  },
  {
   "cell_type": "code",
   "execution_count": 1,
   "id": "b1d981c6-43b8-4090-b9d4-b0cca2df30b8",
   "metadata": {
    "scrolled": true
   },
   "outputs": [
    {
     "name": "stdout",
     "output_type": "stream",
     "text": [
      "No normalization for SPS. Feature removed!\n",
      "No normalization for AvgIpc. Feature removed!\n",
      "2024-09-30 17:09:37.365895: I tensorflow/core/platform/cpu_feature_guard.cc:210] This TensorFlow binary is optimized to use available CPU instructions in performance-critical operations.\n",
      "To enable the following instructions: AVX2 FMA, in other operations, rebuild TensorFlow with the appropriate compiler flags.\n",
      "2024-09-30 17:09:38.978285: W tensorflow/compiler/tf2tensorrt/utils/py_utils.cc:38] TF-TRT Warning: Could not find TensorRT\n",
      "WARNING:tensorflow:From /mnt/rna01/wuyf/anaconda3/lib/python3.11/site-packages/tensorflow/python/util/deprecation.py:588: calling function (from tensorflow.python.eager.polymorphic_function.polymorphic_function) with experimental_relax_shapes is deprecated and will be removed in a future version.\n",
      "Instructions for updating:\n",
      "experimental_relax_shapes is deprecated, use reduce_retracing instead\n",
      "Skipped loading modules with pytorch-geometric dependency, missing a dependency. No module named 'torch_geometric'\n",
      "Skipped loading modules with pytorch-geometric dependency, missing a dependency. cannot import name 'DMPNN' from 'deepchem.models.torch_models' (/mnt/rna01/wuyf/anaconda3/lib/python3.11/site-packages/deepchem/models/torch_models/__init__.py)\n",
      "Skipped loading some Jax models, missing a dependency. No module named 'jax'\n",
      "zgpuA1001\n",
      "0\n",
      "Special tokens have been added in the vocabulary, make sure the associated word embeddings are fine-tuned or trained.\n",
      "loading...\n",
      "100%|█████████████████████████████████████| 800/800 [00:00<00:00, 336149.39it/s]\n",
      "packing...\n",
      "100%|████████████████████████████████████| 800/800 [00:00<00:00, 5917889.24it/s]\n",
      "720 80\n",
      "Preparing the epoch 1's data...\n",
      "Training Loss: 6.784; Learning rate: 0.000001; Progress: -0.001; Stop round: 0: ========== Step:    0 ==========\n",
      "[Total Valid]\n",
      "  0%|                                                     | 0/2 [00:00<?, ?it/s]\u001b[A\n",
      "100%|█████████████████████████████████████████████| 2/2 [00:01<00:00,  1.51it/s]\u001b[A\n",
      " LOSS= 6.100;\n",
      "=================================\n",
      "Model saved in \"./saved_models/MolMetaLM_base_acc6.100_s0.pkl\".\n",
      "Bingo!!! Get a better Model with val LOSS: 6.100!!!\n",
      "Model saved in \"./saved_models/MolMetaLM_base.pkl\".\n",
      "Training Loss: 5.037; Learning rate: 0.000011; Progress: 0.009; Stop round: 0: 1\n",
      "Preparing the epoch 2's data...\n",
      "Training Loss: 4.253; Learning rate: 0.000022; Progress: 0.020; Stop round: 0: 1\n",
      "Preparing the epoch 3's data...\n",
      "Training Loss: 3.622; Learning rate: 0.000033; Progress: 0.031; Stop round: 0: 1\n",
      "Preparing the epoch 4's data...\n",
      "Training Loss: 2.494; Learning rate: 0.000044; Progress: 0.042; Stop round: 0: 1\n",
      "Preparing the epoch 5's data...\n",
      "Training Loss: 2.567; Learning rate: 0.000055; Progress: 0.053; Stop round: 0: 1\n",
      "Preparing the epoch 6's data...\n",
      "Training Loss: 2.792; Learning rate: 0.000066; Progress: 0.064; Stop round: 0: 1\n",
      "Preparing the epoch 7's data...\n",
      "Training Loss: 2.737; Learning rate: 0.000077; Progress: 0.075; Stop round: 0: 1\n",
      "Preparing the epoch 8's data...\n",
      "Training Loss: 2.841; Learning rate: 0.000088; Progress: 0.086; Stop round: 0: 1\n",
      "Preparing the epoch 9's data...\n",
      "Training Loss: 2.695; Learning rate: 0.000099; Progress: 0.097; Stop round: 0: 1\n",
      "Preparing the epoch 10's data...\n",
      "Training Loss: 2.033; Learning rate: 0.000100; Progress: 0.099; Stop round: 0:  ========== Step:  100 ==========\n",
      "[Total Valid]\n",
      "  0%|                                                     | 0/2 [00:00<?, ?it/s]\u001b[A\n",
      "100%|█████████████████████████████████████████████| 2/2 [00:01<00:00,  1.54it/s]\u001b[A\n",
      " LOSS= 1.993;\n",
      "=================================\n",
      "Model saved in \"./saved_models/MolMetaLM_base_acc1.993_s100.pkl\".\n",
      "Bingo!!! Get a better Model with val LOSS: 1.993!!!\n",
      "Model saved in \"./saved_models/MolMetaLM_base.pkl\".\n",
      "Training Loss: 2.668; Learning rate: 0.000100; Progress: 0.108; Stop round: 0: 1\n",
      "Preparing the epoch 11's data...\n",
      "Training Loss: 2.261; Learning rate: 0.000100; Progress: 0.119; Stop round: 0: 1\n",
      "Preparing the epoch 12's data...\n",
      "Training Loss: 2.148; Learning rate: 0.000100; Progress: 0.130; Stop round: 0: 1\n",
      "Preparing the epoch 13's data...\n",
      "Training Loss: 2.137; Learning rate: 0.000099; Progress: 0.141; Stop round: 0: 1\n",
      "Preparing the epoch 14's data...\n",
      "Training Loss: 2.482; Learning rate: 0.000099; Progress: 0.152; Stop round: 0: 1\n",
      "Preparing the epoch 15's data...\n",
      "Training Loss: 2.003; Learning rate: 0.000099; Progress: 0.163; Stop round: 0: 1\n",
      "Preparing the epoch 16's data...\n",
      "Training Loss: 2.313; Learning rate: 0.000098; Progress: 0.174; Stop round: 0: 1\n",
      "Preparing the epoch 17's data...\n",
      "Training Loss: 1.850; Learning rate: 0.000098; Progress: 0.185; Stop round: 0: 1\n",
      "Preparing the epoch 18's data...\n",
      "Training Loss: 2.338; Learning rate: 0.000097; Progress: 0.196; Stop round: 0: 1\n",
      "Preparing the epoch 19's data...\n",
      "Training Loss: 2.043; Learning rate: 0.000097; Progress: 0.199; Stop round: 0:  ========== Step:  200 ==========\n",
      "[Total Valid]\n",
      "  0%|                                                     | 0/2 [00:00<?, ?it/s]\u001b[A\n",
      "100%|█████████████████████████████████████████████| 2/2 [00:01<00:00,  1.77it/s]\u001b[A\n",
      " LOSS= 1.313;\n",
      "=================================\n",
      "Model saved in \"./saved_models/MolMetaLM_base_acc1.313_s200.pkl\".\n",
      "Bingo!!! Get a better Model with val LOSS: 1.313!!!\n",
      "Model saved in \"./saved_models/MolMetaLM_base.pkl\".\n",
      "Training Loss: 1.938; Learning rate: 0.000096; Progress: 0.207; Stop round: 0: 1\n",
      "Preparing the epoch 20's data...\n",
      "Training Loss: 1.920; Learning rate: 0.000096; Progress: 0.218; Stop round: 0: 1\n",
      "Preparing the epoch 21's data...\n",
      "Training Loss: 2.279; Learning rate: 0.000095; Progress: 0.229; Stop round: 0: 1\n",
      "Preparing the epoch 22's data...\n",
      "Training Loss: 2.176; Learning rate: 0.000094; Progress: 0.240; Stop round: 0: 1\n",
      "Preparing the epoch 23's data...\n",
      "Training Loss: 1.897; Learning rate: 0.000093; Progress: 0.251; Stop round: 0: 1\n",
      "Preparing the epoch 24's data...\n",
      "Training Loss: 1.989; Learning rate: 0.000092; Progress: 0.262; Stop round: 0: 1\n",
      "Preparing the epoch 25's data...\n",
      "Training Loss: 1.940; Learning rate: 0.000091; Progress: 0.273; Stop round: 0: 1\n",
      "Preparing the epoch 26's data...\n",
      "Training Loss: 2.163; Learning rate: 0.000090; Progress: 0.284; Stop round: 0: 1\n",
      "Preparing the epoch 27's data...\n",
      "Training Loss: 1.962; Learning rate: 0.000089; Progress: 0.295; Stop round: 0: 1\n",
      "Preparing the epoch 28's data...\n",
      "Training Loss: 2.012; Learning rate: 0.000088; Progress: 0.299; Stop round: 0:  ========== Step:  300 ==========\n",
      "[Total Valid]\n",
      "  0%|                                                     | 0/2 [00:00<?, ?it/s]\u001b[A\n",
      "100%|█████████████████████████████████████████████| 2/2 [00:00<00:00,  2.40it/s]\u001b[A\n",
      " LOSS= 1.086;\n",
      "=================================\n",
      "Model saved in \"./saved_models/MolMetaLM_base_acc1.086_s300.pkl\".\n",
      "Bingo!!! Get a better Model with val LOSS: 1.086!!!\n",
      "Model saved in \"./saved_models/MolMetaLM_base.pkl\".\n",
      "Training Loss: 1.923; Learning rate: 0.000087; Progress: 0.306; Stop round: 0: 1\n",
      "Preparing the epoch 29's data...\n",
      "Training Loss: 1.925; Learning rate: 0.000086; Progress: 0.317; Stop round: 0: 1\n",
      "Preparing the epoch 30's data...\n",
      "Training Loss: 1.898; Learning rate: 0.000085; Progress: 0.328; Stop round: 0: 1\n",
      "Preparing the epoch 31's data...\n",
      "Training Loss: 1.952; Learning rate: 0.000083; Progress: 0.339; Stop round: 0: 1\n",
      "Preparing the epoch 32's data...\n",
      "Training Loss: 1.821; Learning rate: 0.000082; Progress: 0.350; Stop round: 0: 1\n",
      "Preparing the epoch 33's data...\n",
      "Training Loss: 2.051; Learning rate: 0.000080; Progress: 0.361; Stop round: 0: 1\n",
      "Preparing the epoch 34's data...\n",
      "Training Loss: 2.003; Learning rate: 0.000079; Progress: 0.372; Stop round: 0: 1\n",
      "Preparing the epoch 35's data...\n",
      "Training Loss: 1.788; Learning rate: 0.000077; Progress: 0.383; Stop round: 0: 1\n",
      "Preparing the epoch 36's data...\n",
      "Training Loss: 2.052; Learning rate: 0.000076; Progress: 0.394; Stop round: 0: 1\n",
      "Preparing the epoch 37's data...\n",
      "Training Loss: 1.993; Learning rate: 0.000075; Progress: 0.399; Stop round: 0:  ========== Step:  400 ==========\n",
      "[Total Valid]\n",
      "  0%|                                                     | 0/2 [00:00<?, ?it/s]\u001b[A\n",
      "100%|█████████████████████████████████████████████| 2/2 [00:00<00:00,  4.12it/s]\u001b[A\n",
      " LOSS= 1.058;\n",
      "=================================\n",
      "Model saved in \"./saved_models/MolMetaLM_base_acc1.058_s400.pkl\".\n",
      "Bingo!!! Get a better Model with val LOSS: 1.058!!!\n",
      "Model saved in \"./saved_models/MolMetaLM_base.pkl\".\n",
      "Training Loss: 1.928; Learning rate: 0.000074; Progress: 0.405; Stop round: 0: 1\n",
      "Preparing the epoch 38's data...\n",
      "Training Loss: 1.863; Learning rate: 0.000072; Progress: 0.416; Stop round: 0: 1\n",
      "Preparing the epoch 39's data...\n",
      "Training Loss: 2.042; Learning rate: 0.000070; Progress: 0.427; Stop round: 0: 1\n",
      "Preparing the epoch 40's data...\n",
      "Training Loss: 1.609; Learning rate: 0.000069; Progress: 0.438; Stop round: 0: 1\n",
      "Preparing the epoch 41's data...\n",
      "Training Loss: 1.740; Learning rate: 0.000067; Progress: 0.449; Stop round: 0: 1\n",
      "Preparing the epoch 42's data...\n",
      "Training Loss: 1.898; Learning rate: 0.000065; Progress: 0.460; Stop round: 0: 1\n",
      "Preparing the epoch 43's data...\n",
      "Training Loss: 1.862; Learning rate: 0.000063; Progress: 0.471; Stop round: 0: 1\n",
      "Preparing the epoch 44's data...\n",
      "Training Loss: 1.741; Learning rate: 0.000061; Progress: 0.482; Stop round: 0: 1\n",
      "Preparing the epoch 45's data...\n",
      "Training Loss: 1.918; Learning rate: 0.000060; Progress: 0.493; Stop round: 0: 1\n",
      "Preparing the epoch 46's data...\n",
      "Training Loss: 1.958; Learning rate: 0.000059; Progress: 0.499; Stop round: 0:  ========== Step:  500 ==========\n",
      "[Total Valid]\n",
      "  0%|                                                     | 0/2 [00:00<?, ?it/s]\u001b[A\n",
      "100%|█████████████████████████████████████████████| 2/2 [00:00<00:00,  2.92it/s]\u001b[A\n",
      " LOSS= 0.842;\n",
      "=================================\n",
      "Model saved in \"./saved_models/MolMetaLM_base_acc0.842_s500.pkl\".\n",
      "Bingo!!! Get a better Model with val LOSS: 0.842!!!\n",
      "Model saved in \"./saved_models/MolMetaLM_base.pkl\".\n",
      "Training Loss: 1.831; Learning rate: 0.000058; Progress: 0.504; Stop round: 0: 1\n",
      "Preparing the epoch 47's data...\n",
      "Training Loss: 1.764; Learning rate: 0.000056; Progress: 0.515; Stop round: 0: 1\n",
      "Preparing the epoch 48's data...\n",
      "Training Loss: 1.741; Learning rate: 0.000054; Progress: 0.526; Stop round: 0: 1\n",
      "Preparing the epoch 49's data...\n",
      "Training Loss: 2.001; Learning rate: 0.000052; Progress: 0.537; Stop round: 0: 1\n",
      "Preparing the epoch 50's data...\n",
      "Training Loss: 1.859; Learning rate: 0.000050; Progress: 0.548; Stop round: 0: 1\n",
      "Preparing the epoch 51's data...\n",
      "Training Loss: 1.936; Learning rate: 0.000048; Progress: 0.559; Stop round: 0: 1\n",
      "Preparing the epoch 52's data...\n",
      "Training Loss: 1.830; Learning rate: 0.000046; Progress: 0.570; Stop round: 0: 1\n",
      "Preparing the epoch 53's data...\n",
      "Training Loss: 1.730; Learning rate: 0.000044; Progress: 0.581; Stop round: 0: 1\n",
      "Preparing the epoch 54's data...\n",
      "Training Loss: 1.757; Learning rate: 0.000042; Progress: 0.592; Stop round: 0: 1\n",
      "Preparing the epoch 55's data...\n",
      "Training Loss: 1.980; Learning rate: 0.000041; Progress: 0.599; Stop round: 0:  ========== Step:  600 ==========\n",
      "[Total Valid]\n",
      "  0%|                                                     | 0/2 [00:00<?, ?it/s]\u001b[A\n",
      "100%|█████████████████████████████████████████████| 2/2 [00:00<00:00,  2.54it/s]\u001b[A\n",
      " LOSS= 1.012;\n",
      "=================================\n",
      "Model saved in \"./saved_models/MolMetaLM_base_acc1.012_s600.pkl\".\n",
      "Training Loss: 1.714; Learning rate: 0.000040; Progress: 0.603; Stop round: 1: 1\n",
      "Preparing the epoch 56's data...\n",
      "Training Loss: 1.933; Learning rate: 0.000039; Progress: 0.614; Stop round: 1: 1\n",
      "Preparing the epoch 57's data...\n",
      "Training Loss: 1.816; Learning rate: 0.000037; Progress: 0.625; Stop round: 1: 1\n",
      "Preparing the epoch 58's data...\n",
      "Training Loss: 1.816; Learning rate: 0.000035; Progress: 0.636; Stop round: 1: 1\n",
      "Preparing the epoch 59's data...\n",
      "Training Loss: 2.012; Learning rate: 0.000033; Progress: 0.647; Stop round: 1: 1\n",
      "Preparing the epoch 60's data...\n",
      "Training Loss: 1.714; Learning rate: 0.000031; Progress: 0.658; Stop round: 1: 1\n",
      "Preparing the epoch 61's data...\n",
      "Training Loss: 1.861; Learning rate: 0.000030; Progress: 0.669; Stop round: 1: 1\n",
      "Preparing the epoch 62's data...\n",
      "Training Loss: 1.792; Learning rate: 0.000028; Progress: 0.680; Stop round: 1: 1\n",
      "Preparing the epoch 63's data...\n",
      "Training Loss: 1.936; Learning rate: 0.000026; Progress: 0.691; Stop round: 1: 1\n",
      "Preparing the epoch 64's data...\n",
      "Training Loss: 1.911; Learning rate: 0.000025; Progress: 0.699; Stop round: 1:  ========== Step:  700 ==========\n",
      "[Total Valid]\n",
      "  0%|                                                     | 0/2 [00:00<?, ?it/s]\u001b[A\n",
      "100%|█████████████████████████████████████████████| 2/2 [00:00<00:00,  2.28it/s]\u001b[A\n",
      " LOSS= 0.916;\n",
      "=================================\n",
      "Model saved in \"./saved_models/MolMetaLM_base_acc0.916_s700.pkl\".\n",
      "Training Loss: 1.985; Learning rate: 0.000024; Progress: 0.702; Stop round: 2: 1\n",
      "Preparing the epoch 65's data...\n",
      "Training Loss: 1.666; Learning rate: 0.000023; Progress: 0.713; Stop round: 2: 1\n",
      "Preparing the epoch 66's data...\n",
      "Training Loss: 1.801; Learning rate: 0.000021; Progress: 0.724; Stop round: 2: 1\n",
      "Preparing the epoch 67's data...\n",
      "Training Loss: 1.834; Learning rate: 0.000020; Progress: 0.735; Stop round: 2: 1\n",
      "Preparing the epoch 68's data...\n",
      "Training Loss: 1.636; Learning rate: 0.000018; Progress: 0.746; Stop round: 2: 1\n",
      "Preparing the epoch 69's data...\n",
      "Training Loss: 1.853; Learning rate: 0.000017; Progress: 0.757; Stop round: 2: 1\n",
      "Preparing the epoch 70's data...\n",
      "Training Loss: 1.800; Learning rate: 0.000015; Progress: 0.768; Stop round: 2: 1\n",
      "Preparing the epoch 71's data...\n",
      "Training Loss: 1.919; Learning rate: 0.000014; Progress: 0.779; Stop round: 2: 1\n",
      "Preparing the epoch 72's data...\n",
      "Training Loss: 1.697; Learning rate: 0.000013; Progress: 0.790; Stop round: 2: 1\n",
      "Preparing the epoch 73's data...\n",
      "Training Loss: 1.842; Learning rate: 0.000012; Progress: 0.799; Stop round: 2:  ========== Step:  800 ==========\n",
      "[Total Valid]\n",
      "  0%|                                                     | 0/2 [00:00<?, ?it/s]\u001b[A\n",
      "100%|█████████████████████████████████████████████| 2/2 [00:00<00:00,  3.94it/s]\u001b[A\n",
      " LOSS= 1.241;\n",
      "=================================\n",
      "Model saved in \"./saved_models/MolMetaLM_base_acc1.241_s800.pkl\".\n",
      "Training Loss: 1.686; Learning rate: 0.000011; Progress: 0.801; Stop round: 3: 1\n",
      "Preparing the epoch 74's data...\n",
      "Training Loss: 1.920; Learning rate: 0.000010; Progress: 0.812; Stop round: 3: 1\n",
      "Preparing the epoch 75's data...\n",
      "Training Loss: 1.916; Learning rate: 0.000009; Progress: 0.823; Stop round: 3: 1\n",
      "Preparing the epoch 76's data...\n",
      "Training Loss: 1.691; Learning rate: 0.000008; Progress: 0.834; Stop round: 3: 1\n",
      "Preparing the epoch 77's data...\n",
      "Training Loss: 1.864; Learning rate: 0.000007; Progress: 0.845; Stop round: 3: 1\n",
      "Preparing the epoch 78's data...\n",
      "Training Loss: 1.695; Learning rate: 0.000006; Progress: 0.856; Stop round: 3: 1\n",
      "Preparing the epoch 79's data...\n",
      "Training Loss: 1.804; Learning rate: 0.000005; Progress: 0.867; Stop round: 3: 1\n",
      "Preparing the epoch 80's data...\n",
      "Training Loss: 2.012; Learning rate: 0.000004; Progress: 0.878; Stop round: 3: 1\n",
      "Preparing the epoch 81's data...\n",
      "Training Loss: 1.866; Learning rate: 0.000004; Progress: 0.889; Stop round: 3: 1\n",
      "Preparing the epoch 82's data...\n",
      "Training Loss: 1.724; Learning rate: 0.000003; Progress: 0.899; Stop round: 3:  ========== Step:  900 ==========\n",
      "[Total Valid]\n",
      "  0%|                                                     | 0/2 [00:00<?, ?it/s]\u001b[A\n",
      "100%|█████████████████████████████████████████████| 2/2 [00:01<00:00,  1.94it/s]\u001b[A\n",
      " LOSS= 1.072;\n",
      "=================================\n",
      "Model saved in \"./saved_models/MolMetaLM_base_acc1.072_s900.pkl\".\n",
      "Training Loss: 1.615; Learning rate: 0.000003; Progress: 0.900; Stop round: 4: 1\n",
      "Preparing the epoch 83's data...\n",
      "Training Loss: 1.687; Learning rate: 0.000002; Progress: 0.911; Stop round: 4: 1\n",
      "Preparing the epoch 84's data...\n",
      "Training Loss: 1.990; Learning rate: 0.000002; Progress: 0.922; Stop round: 4: 1\n",
      "Preparing the epoch 85's data...\n",
      "Training Loss: 1.750; Learning rate: 0.000001; Progress: 0.933; Stop round: 4: 1\n",
      "Preparing the epoch 86's data...\n",
      "Training Loss: 1.833; Learning rate: 0.000001; Progress: 0.944; Stop round: 4: 1\n",
      "Preparing the epoch 87's data...\n",
      "Training Loss: 1.865; Learning rate: 0.000001; Progress: 0.955; Stop round: 4: 1\n",
      "Preparing the epoch 88's data...\n",
      "Training Loss: 1.887; Learning rate: 0.000000; Progress: 0.966; Stop round: 4: 1\n",
      "Preparing the epoch 89's data...\n",
      "Training Loss: 1.711; Learning rate: 0.000000; Progress: 0.977; Stop round: 4: 1\n",
      "Preparing the epoch 90's data...\n",
      "Training Loss: 1.650; Learning rate: 0.000000; Progress: 0.988; Stop round: 4: 1\n",
      "Preparing the epoch 91's data...\n",
      "Training Loss: 1.797; Learning rate: 0.000000; Progress: 0.999; Stop round: 4:  ========== Step: 1000 ==========\n",
      "[Total Valid]\n",
      "  0%|                                                     | 0/2 [00:00<?, ?it/s]\u001b[A\n",
      "100%|█████████████████████████████████████████████| 2/2 [00:01<00:00,  1.50it/s]\u001b[A\n",
      " LOSS= 0.900;\n",
      "=================================\n",
      "Model saved in \"./saved_models/MolMetaLM_base_acc0.900_s1000.pkl\".\n",
      "Training Loss: 1.797; Learning rate: 0.000000; Progress: 0.999; Stop round: 4: 1\n",
      "Preparing the epoch 92's data...\n",
      "Training Loss: 1.640; Learning rate: 0.000000; Progress: 1.000; Stop round: 5:  Reach the max steps 1000... break...\n",
      "Training Loss: 1.640; Learning rate: 0.000000; Progress: 1.000; Stop round: 5:  \n",
      "47 epochs and 0.842 val Score 's model load finished.\n",
      "============ Result ============\n",
      "100%|█████████████████████████████████████████████| 2/2 [00:01<00:00,  1.94it/s]\n",
      " LOSS= 1.051;\n",
      "================================\n"
     ]
    }
   ],
   "source": [
    "!python pretrain_MolMetaLM.py --maxSteps 1000 --warmupSteps 100 --dataset ./datasets/smiles.txt --model_size base"
   ]
  },
  {
   "cell_type": "markdown",
   "id": "76fca881-9aa1-4095-80ae-2c999ecb1d0d",
   "metadata": {},
   "source": [
    "# 2. Use MolMetaLM for downstream applicaitons"
   ]
  },
  {
   "cell_type": "markdown",
   "id": "ef069521-bcbf-4502-b62d-e81dded6f14f",
   "metadata": {},
   "source": [
    "## 2.1 via scripts"
   ]
  },
  {
   "cell_type": "code",
   "execution_count": null,
   "id": "394c431c-7001-4c0b-8cb4-a50a50c5f943",
   "metadata": {},
   "outputs": [],
   "source": [
    "# molecular representation\n",
    "!python molecule_embedding.py --input_file ./datasets/smiles.txt --output_file ./cache/smiles.pkl"
   ]
  },
  {
   "cell_type": "code",
   "execution_count": null,
   "id": "8cf9aee1-42cd-467b-bcb1-6213078cc549",
   "metadata": {},
   "outputs": [],
   "source": [
    "# molecular generation based on query molecule\n",
    "# param method: `structure` for query molecular backbone-based generation; `fingerprint` for query molecular fingerprint-based generation\n",
    "!python molecule_generate_based_on_query.py --input C --output ./cache \\\n",
    "                                            --method structure --topK 10"
   ]
  },
  {
   "cell_type": "code",
   "execution_count": null,
   "id": "48559133-a908-4b41-aba4-f9a8703f02cd",
   "metadata": {},
   "outputs": [],
   "source": [
    "# finetune MolMetaLM for MoleculeNet classification tasks. \n",
    "# param datasets: UniMol_PCBA,UniMol_MUV,UniMol_HIV,UniMol_BACE,UniMol_BBBP,UniMol_Tox21,UniMol_ToxCast,UniMol_SIDER,UniMol_ClinTox\n",
    "!python -u finetune_main_final.py --datasets \"UniMol_BBBP\" \\\n",
    "                                  --taskType \"classification\" --modelType \"llama2-base\""
   ]
  },
  {
   "cell_type": "code",
   "execution_count": null,
   "id": "b0d7f340-2b07-4cd4-a69e-5f6b4a8cd2da",
   "metadata": {},
   "outputs": [],
   "source": [
    "# finetune MolMetaLM for GPCR-related activity or AGBT's regression tasks. \n",
    "# param datasets: GPCR_5HT1A,GPCR_5HT2A,GPCR_AA1R,GPCR_AA2AR,GPCR_AA3R,GPCR_CNR2,GPCR_DRD2,GPCR_DRD3,GPCR_HRH3,GPCR_OPRM,\n",
    "#                 AGBT_LD50,AGBT_IGC50,AGBT_LC50,AGBT_LC50DM,AGBT_LogP,AGBT_FreeSolv,AGBT_Lipophilicity\n",
    "!python -u finetune_main_final.py --datasets \"GPCR_5HT1A\" \\\n",
    "                                  --taskType \"regression\" --modelType \"llama2-base\""
   ]
  },
  {
   "cell_type": "markdown",
   "id": "cee8335b-82d4-4d3c-917a-39db1fb9362f",
   "metadata": {},
   "source": [
    "## 2.2 via codes"
   ]
  },
  {
   "cell_type": "code",
   "execution_count": 95,
   "id": "e0eb0641-45c3-4727-b626-3567e014da99",
   "metadata": {},
   "outputs": [],
   "source": [
    "def analysis_property_from_string(s):\n",
    "    res = re.findall('(\\[RDKit:[0-9a-zA-Z]*?\\][0-9.\\s]+?);', s)\n",
    "    return res\n",
    "def analysis_property_form_mol(m, s):\n",
    "    func = [re.findall('\\[RDKit:(.*?)\\]', i)[0] for i in analysis_property_from_string(s)]\n",
    "    res = []\n",
    "    for f in func:\n",
    "        if f in descriptors:\n",
    "            res.append( f\"[RDKit:{f}] \"+\" \".join(list(f\"{getattr(Descriptors, f)(m):.3f}\")))\n",
    "        else:\n",
    "            print('fk', f, '!!!')\n",
    "            print(1/0)\n",
    "    return res"
   ]
  },
  {
   "cell_type": "code",
   "execution_count": 297,
   "id": "6313a600-7e6b-4a7b-8222-68e8f4475fb0",
   "metadata": {},
   "outputs": [
    {
     "name": "stderr",
     "output_type": "stream",
     "text": [
      "Special tokens have been added in the vocabulary, make sure the associated word embeddings are fine-tuned or trained.\n"
     ]
    }
   ],
   "source": [
    "# from huggingface\n",
    "from transformers import AutoTokenizer, AutoModel, AutoModelForCausalLM\n",
    "tokenizer = AutoTokenizer.from_pretrained('wudejian789/MolMetaLM-base')\n",
    "descriptors = [i[7:-1] for i in tokenizer.get_vocab().keys() if i.startswith('[RDKit:')]\n",
    "model = AutoModelForCausalLM.from_pretrained('wudejian789/MolMetaLM-base').cuda()\n",
    "model = model.eval()"
   ]
  },
  {
   "cell_type": "code",
   "execution_count": null,
   "id": "ca8e7f11-b914-4315-b274-55161d8f4af6",
   "metadata": {},
   "outputs": [],
   "source": [
    "# from your own MolMetaLM\n",
    "from utils import *\n",
    "from DL_ClassifierModel import *\n",
    "\n",
    "collater = HuggingfaceNoisingCollateFunc_final(bertDir='./bertModel/Tokenizer_final', seqMaxLen=512, k=64)\n",
    "descriptors = collater.DescriptorsAttrs\n",
    "tkn2id = collater.tokenizer.get_vocab()\n",
    "\n",
    "config = AutoConfig.from_pretrained(\"./bertModel/cus-llama2-base\", trust_remote_code=True, use_flash_attention_2=True)\n",
    "\n",
    "backbone = MolMetaLM(config, tkn2id, maxGenLen=512).cuda()\n",
    "model = HuggingfaceSeq2SeqLanguageModel(backbone, collateFunc=collater, AMP=True)\n",
    "\n",
    "model.load('./saved_models/MolMetaLM_base_0.842.pkl')\n",
    "\n",
    "tokenizer = collater.tokenizer\n",
    "model = model.model"
   ]
  },
  {
   "cell_type": "code",
   "execution_count": null,
   "id": "c7f68d25-fe8e-419f-a201-1e5b52c180e6",
   "metadata": {},
   "outputs": [],
   "source": []
  },
  {
   "cell_type": "code",
   "execution_count": 120,
   "id": "bb620e04-baae-42b4-b910-9ea744a12aab",
   "metadata": {},
   "outputs": [
    {
     "name": "stdout",
     "output_type": "stream",
     "text": [
      "torch.Size([1, 27, 768])\n"
     ]
    }
   ],
   "source": [
    "# molecular embedding\n",
    "smi = \"COc1cc2c(cc1OC)CC([NH3+])C2\"\n",
    "tokenized_smi = tokenizer(\" \".join(list(smi)), return_token_type_ids=False, \n",
    "                          return_tensors='pt', max_length=512, padding='longest', truncation=True)\n",
    "emb_smi = model.model(**tokenized_smi).last_hidden_state\n",
    "print(emb_smi.shape) # batch size, seq length, embedding size"
   ]
  },
  {
   "cell_type": "code",
   "execution_count": 116,
   "id": "c8874a6b-8cef-4d51-995f-c35c19f2ae8c",
   "metadata": {},
   "outputs": [
    {
     "name": "stdout",
     "output_type": "stream",
     "text": [
      "generated smiles: c1cc2c(cc1)c1c(cccc1)n2-c1ccc(cc1)N(c1ccc(-c2ccccc2)cc1)c1ccc2c(c3ccccc3c3c2cccc3)c1\n",
      "properties: ['[RDKit:NumAromaticRings] 1 0 . 0 0 0', '[RDKit:MolWt] 6 3 6 . 7 9 8']\n"
     ]
    },
    {
     "data": {
      "image/png": "[encoded data removed]",
      "text/plain": [
       "<rdkit.Chem.rdchem.Mol at 0x7fba8d57ab90>"
      ]
     },
     "execution_count": 116,
     "metadata": {},
     "output_type": "execute_result"
    }
   ],
   "source": [
    "# molecule conditional generation\n",
    "source = [\"[sGLM_smi] [SPAN] [SEP] [RDKit:NumAromaticRings] 1 0 . 0 0 0 ; [RDKit:MolWt] 6 3 6. 0 0 0 ; [SOS]\"]\n",
    "batch = tokenizer(source, return_tensors='pt', max_length=512, padding='longest', truncation=True, return_token_type_ids=False)\n",
    "target_pre = tokenizer.batch_decode(model.generate(**batch, max_length=512))[0]\n",
    "smiles = target_pre[target_pre.find('[SOS]')+6:target_pre.find('[EOS]')-7].replace(' ','')\n",
    "mol = Chem.MolFromSmiles(smiles)\n",
    "print(\"generated smiles:\",smiles)\n",
    "print('properties:', analysis_property_form_mol(mol, source[0]))\n",
    "mol"
   ]
  },
  {
   "cell_type": "code",
   "execution_count": null,
   "id": "77222c32-38b5-429b-bf8f-2547143d454a",
   "metadata": {},
   "outputs": [],
   "source": []
  },
  {
   "cell_type": "code",
   "execution_count": 540,
   "id": "ea36af15-e7df-404b-8d9e-cd0e8b5bc010",
   "metadata": {},
   "outputs": [
    {
     "name": "stdout",
     "output_type": "stream",
     "text": [
      "original smiles:        O=C(N[C@@H](C(=O)[O-])c1ccccc1)C1CCC(CNC(=O)[C@@H]2Cc3ccccc3C[NH2+]2)CC1\n",
      "new smiles (sim=0.140): c1cc(cc(c1)C(=O)N1CCCC1C(O)=O)NC(c1occc1)=O\n",
      "MolLogP : -2.0163999999999955\n",
      "qed : -0.3358734436409784\n",
      "TPSA : 15.090000000000018\n"
     ]
    }
   ],
   "source": [
    "# molecular optimization\n",
    "from rdkit import DataStructs\n",
    "ref_smi = \"O=C(N[C@@H](C(=O)[O-])c1ccccc1)C1CCC(CNC(=O)[C@@H]2Cc3ccccc3C[NH2+]2)CC1\"\n",
    "ref_mol = Chem.MolFromSmiles(ref_smi)\n",
    "proList = [\"MolLogP\",\"qed\",\"TPSA\"] # target property list you want to optimize \n",
    "valList = [-1.0,-0.1,10]           # value difference list you want to change\n",
    "k = 4                              # factor parameter to control the similarity\n",
    "\n",
    "pros = [f\"[RDKit:{i}]\" for i in proList]\n",
    "vals = [\" \".join(list(f\"{i:.3f}\")) for i in valList]\n",
    "otherCons = [f\"[RDKit:{i}]\" for i in descriptors if i not in proList]\n",
    "\n",
    "while True:\n",
    "    smi_local = Chem.MolToSmiles(ref_mol, doRandom=True)\n",
    "    source = \"[sPGLM_smi(PAIR)] [SMILES] [SUB] [SPAN] [SEP]\" + \" \".join([f\"{p} {v} ;\" for p,v in zip(pros,vals)]) + \" \".join([f\"{p} 0 . 0 0 0 ;\" for p in random.sample(otherCons,k)]) + \" [SOS]\"\n",
    "    batch = tokenizer([source.replace('[SMILES]', \" \".join(list(ref_smi)))], return_token_type_ids=False, \n",
    "                      return_tensors='pt', max_length=collater.seqMaxLen, padding='longest', truncation=True)\n",
    "    batch = dict_to_device(batch, 'cuda')\n",
    "    target_pre = tokenizer.batch_decode(model.generate(**batch, max_length=1024, \n",
    "                                                       do_sample=True, no_repeat_ngram_size=6, num_beams=5, length_penalty=0))[0]\n",
    "    smi_opted = target_pre[target_pre.find('[SOS]')+6:target_pre.find('[EOS]')-7].replace(' ','')\n",
    "    mol_opted = Chem.MolFromSmiles(smi_opted)\n",
    "    if mol_opted is not None:\n",
    "        break\n",
    "fp1 = AllChem.GetMorganFingerprintAsBitVect(ref_mol, 2, nBits=2048, useChirality=False)\n",
    "fp2 = AllChem.GetMorganFingerprintAsBitVect(mol_opted, 2, nBits=2048, useChirality=False)\n",
    "sim = DataStructs.TanimotoSimilarity(fp1, fp2)\n",
    "\n",
    "print(f'original smiles:       ', ref_smi)\n",
    "print(f'new smiles (sim={sim:.3f}):', smi_opted)\n",
    "\n",
    "for pro in proList:\n",
    "    func = getattr(Descriptors, pro)\n",
    "    print(pro, ':', func(ref_mol)-func(mol_opted))"
   ]
  },
  {
   "cell_type": "code",
   "execution_count": null,
   "id": "b4ede724-9bc9-44ec-88dc-f4ff22b53692",
   "metadata": {},
   "outputs": [],
   "source": []
  },
  {
   "cell_type": "code",
   "execution_count": 301,
   "id": "35834bf9-08cd-45c4-825c-59a61cdecbac",
   "metadata": {},
   "outputs": [
    {
     "name": "stdout",
     "output_type": "stream",
     "text": [
      "num of atoms: 9\n"
     ]
    }
   ],
   "source": [
    "# Note: the length of the structural sequence of large molecules will be too large, beyond the preset sequence length of 512. \n",
    "#       therefore, the current model is very unstable when predicting conformation for big molecules (whose num of atoms>20).\n",
    "# molecular conformation prediction\n",
    "stType = \"AAD\"\n",
    "smi = \"C[N@H+]1[C@@H]2[C@H](O)[C@H]1[C@@H]1N[C@@H]12\"\n",
    "mol = Chem.MolFromSmiles(smi)\n",
    "print('num of atoms:', len(mol.GetAtoms()))\n",
    "source = [f\"[SPM_{stType}] {' '.join(list(smi))} [SEP] {' '.join(['[('+stType+')ATOM:'+a.GetSymbol()+'] [XYZ] ;' for a in mol.GetAtoms()])} [SOS]\"]\n",
    "batch = tokenizer(source, return_tensors='pt', max_length=512, padding='longest', truncation=True, return_token_type_ids=False)\n",
    "batch = dict_to_device(dict(**batch), 'cuda')\n",
    "target_pre = tokenizer.batch_decode(model.generate(**batch, max_length=512, do_sample=False,\n",
    "                                                   num_beams=1, no_repeat_ngram_size=0))[0]\n",
    "\n",
    "sIdx,eIdx = target_pre.find('[SOS] [SEP]')+12,target_pre.find('[EOS]')\n",
    "tmp = [[float(j) for j in i.split(',')] for i in target_pre[sIdx:eIdx].replace(' ','').split(';')[:-1]]\n",
    "xyzArr_pre = xyzDecode(np.array(tmp), stType=stType, eps=1e-8) # , eps=-1\n",
    "with open('./cache/conformation_pre.mol', 'w') as f:\n",
    "    s = Chem.MolToMolBlock(mol)\n",
    "    xyzList = re.findall(\"([-\\s][0-9]+\\.[0-9]+)\", s)\n",
    "    start = 0\n",
    "    for xyz,xyz_ in zip(xyzList,xyzArr_pre.reshape(-1)):\n",
    "        assert len(xyz)>=7\n",
    "        l = len(xyz)\n",
    "        idx = s[start:].find(xyz) + start\n",
    "        xyz_ = f\"{xyz_:10.4f}\"[-l:]\n",
    "        c = len(xyz_) - l\n",
    "        s = s[:idx-c] + xyz_ + s[idx+l:]\n",
    "        start = idx+l\n",
    "    f.write(s)"
   ]
  },
  {
   "cell_type": "code",
   "execution_count": 303,
   "id": "6c693f40-756d-41c4-a5f9-a1be91fe3046",
   "metadata": {},
   "outputs": [
    {
     "name": "stderr",
     "output_type": "stream",
     "text": [
      "[22:16:17] Warning: molecule is tagged as 2D, but at least one Z coordinate is not zero. Marking the mol as 3D.\n"
     ]
    },
    {
     "data": {
      "image/png": "[encoded data removed]",
      "text/plain": [
       "<rdkit.Chem.rdchem.Mol at 0x7fba859b0040>"
      ]
     },
     "execution_count": 303,
     "metadata": {},
     "output_type": "execute_result"
    }
   ],
   "source": [
    "Chem.MolFromMolFile('./cache/conformation_pre.mol')"
   ]
  }
 ],
 "metadata": {
  "kernelspec": {
   "display_name": "Python 3 (ipykernel)",
   "language": "python",
   "name": "python3"
  },
  "language_info": {
   "codemirror_mode": {
    "name": "ipython",
    "version": 3
   },
   "file_extension": ".py",
   "mimetype": "text/x-python",
   "name": "python",
   "nbconvert_exporter": "python",
   "pygments_lexer": "ipython3",
   "version": "3.11.7"
  }
 },
 "nbformat": 4,
 "nbformat_minor": 5
}
